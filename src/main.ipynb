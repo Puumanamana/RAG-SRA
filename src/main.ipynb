{
 "cells": [
  {
   "cell_type": "markdown",
   "id": "dd22a916",
   "metadata": {},
   "source": [
    "# RAG experiments"
   ]
  },
  {
   "cell_type": "code",
   "execution_count": null,
   "id": "d695f0ee",
   "metadata": {},
   "outputs": [],
   "source": [
    "import os\n",
    "\n",
    "os.environ[\"GOOGLE_API_KEY\"] = \"YOUR_GOOGLE_API_KEY\"  # replace"
   ]
  },
  {
   "cell_type": "code",
   "execution_count": 5,
   "id": "e8a8a891",
   "metadata": {},
   "outputs": [],
   "source": [
    "from rag import build_query_engine\n",
    "\n",
    "query_engine = build_query_engine(outdir=\"../bioprojects\")"
   ]
  },
  {
   "cell_type": "code",
   "execution_count": 9,
   "id": "0d3dcf57",
   "metadata": {},
   "outputs": [
    {
     "name": "stdout",
     "output_type": "stream",
     "text": [
      "#Hits: 4\n",
      "> PRJNA140889   : CLE gene expression profiles\n",
      "> PRJNA774043   : CLE immunopathogenesis\n",
      "> PRJNA744430   : CLE and SLE skin biopsies\n",
      "> PRJNA320416   : Transcriptional profiles of DLE and sCLE biopsies\n"
     ]
    }
   ],
   "source": [
    "question = \"Can you list Lupus (CLE) studies?\"\n",
    "text = query_engine.query(question)\n",
    "print(text.response)"
   ]
  }
 ],
 "metadata": {
  "kernelspec": {
   "display_name": "py3",
   "language": "python",
   "name": "python3"
  },
  "language_info": {
   "codemirror_mode": {
    "name": "ipython",
    "version": 3
   },
   "file_extension": ".py",
   "mimetype": "text/x-python",
   "name": "python",
   "nbconvert_exporter": "python",
   "pygments_lexer": "ipython3",
   "version": "3.12.7"
  }
 },
 "nbformat": 4,
 "nbformat_minor": 5
}
